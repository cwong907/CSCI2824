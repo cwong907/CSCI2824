{
 "cells": [
  {
   "cell_type": "code",
   "execution_count": 5,
   "metadata": {},
   "outputs": [],
   "source": [
    "def BinToDec(binary_in):\n",
    "\n",
    "    # initialize\n",
    "    decimal_out = 0\n",
    "\n",
    "    # add up the binary expression of the decimal number\n",
    "    for position in range(0, len(binary_in)):\n",
    "\n",
    "        decimal_out = decimal_out + binary_in[len(binary_in)-position-1]*(2** position)\n",
    "\n",
    "    return (decimal_out)"
   ]
  },
  {
   "cell_type": "code",
   "execution_count": 6,
   "metadata": {},
   "outputs": [
    {
     "name": "stdout",
     "output_type": "stream",
     "text": [
      "5\n"
     ]
    }
   ],
   "source": [
    "print(BinToDec([1,0,1]))"
   ]
  },
  {
   "cell_type": "code",
   "execution_count": null,
   "metadata": {},
   "outputs": [],
   "source": [
    "def ParityParty(d):\n",
    "    return[d%2, d//2]"
   ]
  },
  {
   "cell_type": "code",
   "execution_count": 11,
   "metadata": {},
   "outputs": [
    {
     "name": "stdout",
     "output_type": "stream",
     "text": [
      "2\n",
      "2\n",
      "4.0\n"
     ]
    }
   ],
   "source": [
    "print (5//2)\n",
    "print(4//2)\n",
    "print (9.9//2)"
   ]
  },
  {
   "cell_type": "code",
   "execution_count": 28,
   "metadata": {},
   "outputs": [],
   "source": [
    "def DecToBin(d):\n",
    "    aList = []\n",
    "    while d != 0:\n",
    "        if (d % 2 == 0):\n",
    "            aList.append(0)\n",
    "        elif (d % 2 == 1):\n",
    "            aList.append(1)\n",
    "        d = d//2\n",
    "    aList.reverse()\n",
    "    return aList"
   ]
  },
  {
   "cell_type": "code",
   "execution_count": 29,
   "metadata": {},
   "outputs": [
    {
     "name": "stdout",
     "output_type": "stream",
     "text": [
      "[1, 0, 1, 0]\n"
     ]
    }
   ],
   "source": [
    "print(DecToBin(10))"
   ]
  },
  {
   "cell_type": "code",
   "execution_count": null,
   "metadata": {},
   "outputs": [],
   "source": []
  }
 ],
 "metadata": {
  "kernelspec": {
   "display_name": "Python 3",
   "language": "python",
   "name": "python3"
  },
  "language_info": {
   "codemirror_mode": {
    "name": "ipython",
    "version": 3
   },
   "file_extension": ".py",
   "mimetype": "text/x-python",
   "name": "python",
   "nbconvert_exporter": "python",
   "pygments_lexer": "ipython3",
   "version": "3.7.4"
  }
 },
 "nbformat": 4,
 "nbformat_minor": 2
}
