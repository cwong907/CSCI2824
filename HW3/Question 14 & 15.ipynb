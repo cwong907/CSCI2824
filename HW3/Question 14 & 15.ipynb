{
 "cells": [
  {
   "cell_type": "code",
   "execution_count": 4,
   "metadata": {},
   "outputs": [
    {
     "name": "stdout",
     "output_type": "stream",
     "text": [
      "False\n"
     ]
    }
   ],
   "source": [
    "def ABCs(letter, number):\n",
    "    #test = False \n",
    "    vowelList = ['A', 'E', 'I', 'O', 'U']\n",
    "    \n",
    "    for x in range(len(letter)):\n",
    "        if number[x]%2 == 0 and letter[x] not in vowelList:\n",
    "            return False\n",
    "            break\n",
    "    \n",
    "    else:\n",
    "        #test = True\n",
    "        return True"
   ]
  },
  {
   "cell_type": "code",
   "execution_count": 5,
   "metadata": {},
   "outputs": [
    {
     "name": "stdout",
     "output_type": "stream",
     "text": [
      "False\n"
     ]
    }
   ],
   "source": [
    "letter = ['A', 'B', 'E']\n",
    "number = [1, 2, 4]\n",
    "\n",
    "print (ABCs(letter, number))"
   ]
  },
  {
   "cell_type": "code",
   "execution_count": null,
   "metadata": {},
   "outputs": [],
   "source": [
    "letter = ['A', 'I', 'E']\n",
    "number = [1, 2, 4]\n",
    "\n",
    "print (ABCs(letter, number))"
   ]
  },
  {
   "cell_type": "code",
   "execution_count": null,
   "metadata": {},
   "outputs": [],
   "source": []
  },
  {
   "cell_type": "code",
   "execution_count": null,
   "metadata": {},
   "outputs": [],
   "source": [
    "Write a function check_proposition that takes as its sole argument a Python list of between 0 and 50 integers and \n",
    "returns a boolean (i.e. True or False)  representing the truth value of the the proposition ∀x[E(x)→∃y(x=2y)], where \n",
    "here the proposition E(x) means \"x is even\" and the list of integers is the domain for x and y.\n",
    "\n",
    "print(check_proposition([-2,-1,0,1,2,3])) should return true\n",
    "print(check_proposition([-2,-1,0,1,3,4])) should return false"
   ]
  },
  {
   "cell_type": "code",
   "execution_count": 20,
   "metadata": {},
   "outputs": [],
   "source": [
    "def check_proposition(aList):\n",
    "    \n",
    "    for i in range(len(aList)):\n",
    "        check = False\n",
    "        if aList[i]%2 == 0:\n",
    "            x = aList[i]\n",
    "            \n",
    "            for j in range(len(aList)):\n",
    "                if x == 2*(aList[j]):\n",
    "                    check = True\n",
    "            \n",
    "            if check == False:\n",
    "                return False\n",
    "                \n",
    "    return True        "
   ]
  },
  {
   "cell_type": "code",
   "execution_count": 22,
   "metadata": {},
   "outputs": [
    {
     "name": "stdout",
     "output_type": "stream",
     "text": [
      "True\n",
      "False\n"
     ]
    }
   ],
   "source": [
    "aList = [-2,-1,0,1,2,3]\n",
    "bList = [-2,-1,0,1,3,4]\n",
    "\n",
    "print(check_proposition(aList))\n",
    "print(check_proposition(bList))"
   ]
  },
  {
   "cell_type": "code",
   "execution_count": null,
   "metadata": {},
   "outputs": [],
   "source": []
  }
 ],
 "metadata": {
  "kernelspec": {
   "display_name": "Python 3",
   "language": "python",
   "name": "python3"
  },
  "language_info": {
   "codemirror_mode": {
    "name": "ipython",
    "version": 3
   },
   "file_extension": ".py",
   "mimetype": "text/x-python",
   "name": "python",
   "nbconvert_exporter": "python",
   "pygments_lexer": "ipython3",
   "version": "3.7.4"
  }
 },
 "nbformat": 4,
 "nbformat_minor": 2
}
