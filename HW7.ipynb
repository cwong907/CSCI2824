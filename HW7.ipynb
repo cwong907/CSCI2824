{
 "cells": [
  {
   "cell_type": "code",
   "execution_count": 4,
   "metadata": {},
   "outputs": [],
   "source": [
    "def sequence_slayer(n):\n",
    "    if n == 0:\n",
    "        return 1\n",
    "    if n == 1:\n",
    "        return 2\n",
    "    elif n >= 0 and n < 50:\n",
    "        final = (n*n)*sequence_slayer(n-1)-sequence_slayer(n-2)\n",
    "        return final\n",
    "    else:\n",
    "        return \"Invalid input for N.\""
   ]
  },
  {
   "cell_type": "code",
   "execution_count": 5,
   "metadata": {},
   "outputs": [
    {
     "name": "stdout",
     "output_type": "stream",
     "text": [
      "2667320876194193\n"
     ]
    }
   ],
   "source": [
    "print(sequence_slayer(11))"
   ]
  },
  {
   "cell_type": "code",
   "execution_count": 2,
   "metadata": {},
   "outputs": [],
   "source": [
    "def first_D_digit_Fib(D):\n",
    "    if D >= 30:\n",
    "        return \"Invalid input for D.\"\n",
    "    else:\n",
    "        f0 = 0\n",
    "        f1 = 1\n",
    "        f = 0\n",
    "        \n",
    "        while len(str(f)) != D:\n",
    "            f = f0 + f1\n",
    "            f0 = f1\n",
    "            f1 = f\n",
    "    return f"
   ]
  },
  {
   "cell_type": "code",
   "execution_count": 3,
   "metadata": {},
   "outputs": [
    {
     "name": "stdout",
     "output_type": "stream",
     "text": [
      "144\n"
     ]
    }
   ],
   "source": [
    "print(first_D_digit_Fib(3))"
   ]
  },
  {
   "cell_type": "code",
   "execution_count": 31,
   "metadata": {},
   "outputs": [],
   "source": [
    "def selSort(N):\n",
    "    count = 0\n",
    "    for i in range(len(N)):\n",
    "        min_element = i\n",
    "        for j in range(i, len(N)):\n",
    "            count +=1\n",
    "            if N[min_element] > N[j]:\n",
    "                min_element = j\n",
    "        temp = N[i]\n",
    "        count +=1\n",
    "        N[i] = N[min_element]\n",
    "        count +=1\n",
    "        N[min_element] = temp\n",
    "        count += 1\n",
    "    return N, count"
   ]
  },
  {
   "cell_type": "code",
   "execution_count": 32,
   "metadata": {},
   "outputs": [
    {
     "name": "stdout",
     "output_type": "stream",
     "text": [
      "([1, 2, 3], 15)\n"
     ]
    }
   ],
   "source": [
    "print(selSort([1,2,3]))"
   ]
  },
  {
   "cell_type": "code",
   "execution_count": null,
   "metadata": {},
   "outputs": [],
   "source": []
  }
 ],
 "metadata": {
  "kernelspec": {
   "display_name": "Python 3",
   "language": "python",
   "name": "python3"
  },
  "language_info": {
   "codemirror_mode": {
    "name": "ipython",
    "version": 3
   },
   "file_extension": ".py",
   "mimetype": "text/x-python",
   "name": "python",
   "nbconvert_exporter": "python",
   "pygments_lexer": "ipython3",
   "version": "3.7.4"
  }
 },
 "nbformat": 4,
 "nbformat_minor": 2
}
