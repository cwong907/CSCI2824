{
 "cells": [
  {
   "cell_type": "markdown",
   "metadata": {},
   "source": [
    "Overview:\n",
    "    \n",
    "Moodle is already handling drops, and I believe it is doing so correctly.  Exam curve has been added.\n",
    "\n",
    "If you want a quick estimate of your current % grade in the class, enter your current \"**Course Total**\" (a number from 0 to 80) it in the line below:"
   ]
  },
  {
   "cell_type": "code",
   "execution_count": 1,
   "metadata": {},
   "outputs": [
    {
     "name": "stdout",
     "output_type": "stream",
     "text": [
      "Estimated Current Grade is: 89.1625\n"
     ]
    }
   ],
   "source": [
    "Ctot=71.33 #insert your value here\n",
    "\n",
    "CurrentGrade=Ctot*5/4\n",
    "print(\"Estimated Current Grade is:\", CurrentGrade)"
   ]
  },
  {
   "cell_type": "markdown",
   "metadata": {},
   "source": [
    "If you want to include an estimate of your HW10 grade - while graders work on it - we need to factor in drops.\n",
    "\n",
    "Variable keys\n",
    "\n",
    "- HWTOT:= homework total; a number from 0 to 30, copied from \"**Homework total**\" cell on Moodle\n",
    "- HW2MIN:= your *second*-lowest homework percentage; a number from 0 to 100.  Use the \"**Hx_% total**\" boxes and record the second-lowest one from all HW except HW 10 here.\n",
    "- QAVG:= quiz average; a number from 0 to 10, copied from \"**Quizlet total**\" cell on Moodle\n",
    "- EAVG:= quiz average; a number from 0 to 40, copied from \"**Exam total**\" cell on Moodle\n",
    "- HW10:= an estimte of your score on HW 10.  Scaled to 100%.\n"
   ]
  },
  {
   "cell_type": "code",
   "execution_count": 2,
   "metadata": {},
   "outputs": [
    {
     "name": "stdout",
     "output_type": "stream",
     "text": [
      "If entered correctly, your Course Total box should read: 73\n",
      "After HW10, your Course Total box would read: 73.9375\n",
      "which is a  92.421875  percent going into the final\n"
     ]
    }
   ],
   "source": [
    "hwtot=27\n",
    "qavg=10\n",
    "eavg=36\n",
    "hw2min=55\n",
    "hw10=80\n",
    "\n",
    "Cest=hwtot+qavg+eavg\n",
    "print(\"If entered correctly, your Course Total box should read:\", Cest)\n",
    "\n",
    "Cnew= hwtot+.3*max((hw10-hw2min),0)/8+qavg+eavg\n",
    "print(\"After HW10, your Course Total box would read:\", Cnew)\n",
    "print(\"which is a \", Cnew*5/4, \" percent going into the final\")\n"
   ]
  },
  {
   "cell_type": "code",
   "execution_count": null,
   "metadata": {},
   "outputs": [],
   "source": []
  }
 ],
 "metadata": {
  "kernelspec": {
   "display_name": "Python 3",
   "language": "python",
   "name": "python3"
  },
  "language_info": {
   "codemirror_mode": {
    "name": "ipython",
    "version": 3
   },
   "file_extension": ".py",
   "mimetype": "text/x-python",
   "name": "python",
   "nbconvert_exporter": "python",
   "pygments_lexer": "ipython3",
   "version": "3.7.4"
  }
 },
 "nbformat": 4,
 "nbformat_minor": 2
}
