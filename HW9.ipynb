{
 "cells": [
  {
   "cell_type": "code",
   "execution_count": 32,
   "metadata": {},
   "outputs": [],
   "source": [
    "def prime_generator(a, b):\n",
    "    primes = []\n",
    "    index = 0\n",
    "    for i in range(a, b + 1):\n",
    "        if i > 1:\n",
    "            for n in range(2, i): \n",
    "                if (i % n) == 0: \n",
    "                    break\n",
    "            else:\n",
    "                primes.insert(index, i)\n",
    "                index = index + 1\n",
    "                #print (index)\n",
    "    return primes"
   ]
  },
  {
   "cell_type": "code",
   "execution_count": 33,
   "metadata": {},
   "outputs": [
    {
     "data": {
      "text/plain": [
       "[2, 3, 5, 7, 11, 13, 17, 19]"
      ]
     },
     "execution_count": 33,
     "metadata": {},
     "output_type": "execute_result"
    }
   ],
   "source": [
    "prime_generator(2, 20)"
   ]
  },
  {
   "cell_type": "code",
   "execution_count": 55,
   "metadata": {},
   "outputs": [],
   "source": [
    "def prime_factors(n):\n",
    "    prime = []\n",
    "    for i in range(2, 30):\n",
    "        for j in range(2, i):\n",
    "            if i % j == 0:\n",
    "                break\n",
    "        else:\n",
    "            prime.append(i)\n",
    "    exp = []\n",
    "    current = n\n",
    "    count = 0\n",
    "    for k in range(0, len(prime)):\n",
    "        while current % prime[k] == 0:\n",
    "            current = current / prime[k]\n",
    "            count = count + 1\n",
    "        exp.append(count)\n",
    "        count = 0\n",
    "    return (exp)"
   ]
  },
  {
   "cell_type": "code",
   "execution_count": 56,
   "metadata": {},
   "outputs": [
    {
     "data": {
      "text/plain": [
       "[3, 0, 1, 0, 0, 0, 0, 2, 0, 0]"
      ]
     },
     "execution_count": 56,
     "metadata": {},
     "output_type": "execute_result"
    }
   ],
   "source": [
    "prime_factors(14440)"
   ]
  },
  {
   "cell_type": "code",
   "execution_count": null,
   "metadata": {},
   "outputs": [],
   "source": []
  }
 ],
 "metadata": {
  "kernelspec": {
   "display_name": "Python 3",
   "language": "python",
   "name": "python3"
  },
  "language_info": {
   "codemirror_mode": {
    "name": "ipython",
    "version": 3
   },
   "file_extension": ".py",
   "mimetype": "text/x-python",
   "name": "python",
   "nbconvert_exporter": "python",
   "pygments_lexer": "ipython3",
   "version": "3.7.4"
  }
 },
 "nbformat": 4,
 "nbformat_minor": 2
}
