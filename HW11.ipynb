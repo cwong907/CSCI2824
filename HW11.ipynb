{
 "cells": [
  {
   "cell_type": "code",
   "execution_count": 15,
   "metadata": {},
   "outputs": [],
   "source": [
    "def filterFun(mess, spam, ham):\n",
    "    spamL= {}\n",
    "    hamL = {}\n",
    "    spamProbability = float(len(spam)) / (len(spam) + len(ham))\n",
    "    hamProbability = 1 - spamProbability\n",
    "\n",
    "    # Set is used to handle condition 4 of counting the numbers only once\n",
    "    for ele in list(set(mess)):\n",
    "        spamL[ele] = 0\n",
    "        hamL[ele] = 0\n",
    "        for sp in spam:\n",
    "            if ele in sp:\n",
    "                spamL[ele] = spamL[ele] + 1.0\n",
    "        for hp in ham:\n",
    "            if ele in hp:\n",
    "                hamL[ele] = hamL[ele] + 1.0\n",
    "\n",
    "    for key, value in spamL.items():\n",
    "        spamL[key] = value / len(spam)\n",
    "    for key, value in hamL.items():\n",
    "        hamL[key] = value / len(ham)\n",
    "\n",
    "    prob_ele_spam = spamProbability\n",
    "    prob_ele_ham = hamProbability\n",
    "\n",
    "    for ele in list(set(mess)):\n",
    "        prob_ele_spam *= spamL[ele]\n",
    "        prob_ele_ham *= hamL[ele]\n",
    "\n",
    "    prob_msg_spam = prob_ele_spam / (prob_ele_spam + prob_ele_ham)\n",
    "    prob_msg_ham = prob_ele_ham / (prob_ele_spam + prob_ele_ham)\n",
    "\n",
    "    return prob_msg_spam > prob_msg_ham"
   ]
  },
  {
   "cell_type": "code",
   "execution_count": 16,
   "metadata": {},
   "outputs": [
    {
     "name": "stdout",
     "output_type": "stream",
     "text": [
      "False\n",
      "True\n"
     ]
    }
   ],
   "source": [
    "mess = [1, 2]\n",
    "spam = [[0, 1], [0, 2], [0, 3]]\n",
    "ham = [[1], [1, 2], [0, 2]]\n",
    "print(filterFun(mess, spam, ham))\n",
    "\n",
    "mess = [0, 1]\n",
    "spam = [[0, 1, 2], [0, 1, 3], [2, 3, 4]]\n",
    "ham = [[2, 3, 5], [6, 1, 0]]\n",
    "print(filterFun(mess, spam, ham))"
   ]
  },
  {
   "cell_type": "code",
   "execution_count": 21,
   "metadata": {},
   "outputs": [],
   "source": [
    "def binom_product(a, b, n):\n",
    "    import math\n",
    "    xyz = []\n",
    "    nFac = math.factorial(n)\n",
    "    p = 1\n",
    "    \n",
    "    for i in range(0, n+1):\n",
    "        aFactorial = math.factorial(n-i)\n",
    "        bFactorial = math.factorial(i)\n",
    "        \n",
    "        x = pow(a, n-i)\n",
    "        y = pow(b, i)\n",
    "        \n",
    "        xyz.append(int((nFac * x * y)/(aFactorial * bFactorial)))\n",
    "    \n",
    "        for i in range (len(xyz)):\n",
    "            p = p * xyz[i]\n",
    "                     \n",
    "    return(product)"
   ]
  },
  {
   "cell_type": "code",
   "execution_count": 23,
   "metadata": {},
   "outputs": [],
   "source": [
    "def rec_mega_digit(N, k):\n",
    "    total = 0\n",
    "    while k >= 1:\n",
    "        number = N\n",
    "        while(number > 0):\n",
    "            x = number%10\n",
    "            total = total + x\n",
    "            number = number//10\n",
    "        k = k-1\n",
    "    return(total)\n",
    "\n",
    "def mega_digit(N, k):\n",
    "    y = rec_mega_digit(N, k)\n",
    "    if y >= 9 | y >= 1:\n",
    "        return(y)\n",
    "    else:\n",
    "        while y >10:\n",
    "            y = rec_mega_digit(y, 1)\n",
    "        return(y)"
   ]
  },
  {
   "cell_type": "code",
   "execution_count": 24,
   "metadata": {},
   "outputs": [],
   "source": [
    "def mega_digit(N,k):\n",
    "    num=str(N)*k\n",
    "    digit= sum([int(c) for c in num])\n",
    "    if digit<=9:\n",
    "        return digit\n",
    "    else:\n",
    "        return mega_digit(igit,1)"
   ]
  },
  {
   "cell_type": "code",
   "execution_count": null,
   "metadata": {},
   "outputs": [],
   "source": []
  }
 ],
 "metadata": {
  "kernelspec": {
   "display_name": "Python 3",
   "language": "python",
   "name": "python3"
  },
  "language_info": {
   "codemirror_mode": {
    "name": "ipython",
    "version": 3
   },
   "file_extension": ".py",
   "mimetype": "text/x-python",
   "name": "python",
   "nbconvert_exporter": "python",
   "pygments_lexer": "ipython3",
   "version": "3.7.4"
  }
 },
 "nbformat": 4,
 "nbformat_minor": 2
}
